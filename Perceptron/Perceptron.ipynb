{
 "cells": [
  {
   "cell_type": "code",
   "execution_count": 1,
   "metadata": {},
   "outputs": [],
   "source": [
    "import torch\n",
    "import torch.nn as nn\n",
    "import torch.optim as optim"
   ]
  },
  {
   "cell_type": "markdown",
   "metadata": {},
   "source": [
    "Here we are defining the model class itself. In this case, it is an old-school 3 layer perceptron. The object takes 3 numbers as input: the sizes of the input, hidden, and output layers. The nodes use a logistic activation function."
   ]
  },
  {
   "cell_type": "code",
   "execution_count": 2,
   "metadata": {},
   "outputs": [],
   "source": [
    "class Perceptron(nn.Module):\n",
    "    def __init__(self, input_size, hidden_size, output_size):\n",
    "        super(Perceptron, self).__init__()\n",
    "        \n",
    "        self.input_size = input_size\n",
    "        self.hidden_size = hidden_size\n",
    "        self.output_size = output_size\n",
    "        \n",
    "        #Here we initialize the weight matrices:\n",
    "        self.i2h = nn.Linear(self.input_size, self.hidden_size)\n",
    "        self.h2o = nn.Linear(self.hidden_size, self.output_size)\n",
    "        \n",
    "        #Here we initialize the activation function:\n",
    "        self.sigmoid = nn.Sigmoid()\n",
    "    \n",
    "    def forward(self, input_):\n",
    "        #First we propagate activation from the input to the hidden layer, and then we apply the \n",
    "        #activation function:\n",
    "        h_hat = self.i2h(input_)\n",
    "        h_hat = self.sigmoid(h_hat)\n",
    "        \n",
    "        #Now we do the same from the hidden layer to the output layer, and again we apply the\n",
    "        #activation function:\n",
    "        o_hat = self.h2o(h_hat)\n",
    "        o_hat = self.sigmoid(o_hat)\n",
    "        return o_hat"
   ]
  },
  {
   "cell_type": "markdown",
   "metadata": {},
   "source": [
    "Here we build the model with 8 input nodes, 3 hidden nodes, and 8 output nodes:"
   ]
  },
  {
   "cell_type": "code",
   "execution_count": 3,
   "metadata": {},
   "outputs": [],
   "source": [
    "model = Perceptron(8, 3, 8)"
   ]
  },
  {
   "cell_type": "markdown",
   "metadata": {},
   "source": [
    "Here we are defining the input/output pairs we want to train the model on:"
   ]
  },
  {
   "cell_type": "code",
   "execution_count": 4,
   "metadata": {},
   "outputs": [],
   "source": [
    "input1 = torch.Tensor([1., 0., 0., 0., 0., 0., 0., 0.])\n",
    "output1 = torch.Tensor([1., 0., 0., 0., 0., 0., 0., 0.])\n",
    "\n",
    "input2 = torch.Tensor([0., 1., 0., 0., 0., 0., 0., 0.])\n",
    "output2 = torch.Tensor([0., 1., 0., 0., 0., 0., 0., 0.])\n",
    "\n",
    "input3 = torch.Tensor([0., 0., 1., 0., 0., 0., 0., 0.])\n",
    "output3 = torch.Tensor([0., 0., 1., 0., 0., 0., 0., 0.])\n",
    "\n",
    "input4 = torch.Tensor([0., 0., 0., 1., 0., 0., 0., 0.])\n",
    "output4 = torch.Tensor([0., 0., 0., 1., 0., 0., 0., 0.])\n",
    "\n",
    "input5 = torch.Tensor([0., 0., 0., 0., 1., 0., 0., 0.])\n",
    "output5 = torch.Tensor([0., 0., 0., 0., 1., 0., 0., 0.])\n",
    "\n",
    "input6 = torch.Tensor([0., 0., 0., 0., 0., 1., 0., 0.])\n",
    "output6 = torch.Tensor([0., 0., 0., 0., 0., 1., 0., 0.])\n",
    "\n",
    "input7 = torch.Tensor([0., 0., 0., 0., 0., 0., 1., 0.])\n",
    "output7 = torch.Tensor([0., 0., 0., 0., 0., 0., 1., 0.])\n",
    "\n",
    "input8 = torch.Tensor([0., 0., 0., 0., 0., 0., 0., 1.])\n",
    "output8 = torch.Tensor([0., 0., 0., 0., 0., 0., 0., 1.])\n",
    "\n",
    "training_set = [\n",
    "    [input1, output1],\n",
    "    [input2, output2],\n",
    "    [input3, output3],\n",
    "    [input4, output4],\n",
    "    [input5, output5],\n",
    "    [input6, output6],\n",
    "    [input7, output7],\n",
    "    [input8, output8]]"
   ]
  },
  {
   "cell_type": "markdown",
   "metadata": {},
   "source": [
    "Here we define the loss function and optimizer that will be used to train the model. I am using Mean Squared Error as the loss function, and Stochastic Gradient Descent as the optimizer:"
   ]
  },
  {
   "cell_type": "code",
   "execution_count": 5,
   "metadata": {},
   "outputs": [],
   "source": [
    "loss_fn = nn.MSELoss()\n",
    "optimizer = optim.SGD(model.parameters(), lr = 0.5, momentum = 0.9)"
   ]
  },
  {
   "cell_type": "markdown",
   "metadata": {},
   "source": [
    "This loop trains the model on the patterns in the training set. It uses backpropagation of error, and runs until the model performs above a threshold or if it has trained for too long without converging:"
   ]
  },
  {
   "cell_type": "code",
   "execution_count": 6,
   "metadata": {},
   "outputs": [
    {
     "name": "stdout",
     "output_type": "stream",
     "text": [
      "500 iterations. Loss: 0.13662360608577728\n",
      "1000 iterations. Loss: 0.014872796833515167\n",
      "Finished Training\n",
      "1306 iterations\n"
     ]
    }
   ],
   "source": [
    "converged = False\n",
    "iteration = 0\n",
    "\n",
    "threshold = 0.01\n",
    "stop = 10000\n",
    "\n",
    "while converged == False:\n",
    "    sum_loss = 0.0\n",
    "    for pattern in training_set:\n",
    "        inputs = pattern[0]\n",
    "        outputs = pattern[1]        \n",
    "        predicted_output = model(inputs)\n",
    "        loss = loss_fn(predicted_output, outputs)\n",
    "        sum_loss += loss\n",
    "    optimizer.zero_grad()\n",
    "    sum_loss.backward()\n",
    "    optimizer.step()\n",
    "        \n",
    "    iteration += 1\n",
    "    \n",
    "    if iteration%500 == 0:\n",
    "        print(iteration, \"iterations.\", \"Loss:\", sum_loss.item())\n",
    "        \n",
    "    if sum_loss < threshold or iteration > stop:\n",
    "        converged = True\n",
    "\n",
    "print('Finished Training')\n",
    "print(iteration, \"iterations\")"
   ]
  },
  {
   "cell_type": "markdown",
   "metadata": {},
   "source": [
    "Now we can test the network on any input:"
   ]
  },
  {
   "cell_type": "code",
   "execution_count": 7,
   "metadata": {},
   "outputs": [
    {
     "data": {
      "text/plain": [
       "tensor([9.3894e-01, 1.3457e-06, 3.2475e-02, 1.8667e-05, 5.0499e-02, 2.6299e-02,\n",
       "        1.0270e-07, 1.8378e-02], grad_fn=<SigmoidBackward>)"
      ]
     },
     "execution_count": 7,
     "metadata": {},
     "output_type": "execute_result"
    }
   ],
   "source": [
    "model(input1)"
   ]
  }
 ],
 "metadata": {
  "kernelspec": {
   "display_name": "Python 3",
   "language": "python",
   "name": "python3"
  },
  "language_info": {
   "codemirror_mode": {
    "name": "ipython",
    "version": 3
   },
   "file_extension": ".py",
   "mimetype": "text/x-python",
   "name": "python",
   "nbconvert_exporter": "python",
   "pygments_lexer": "ipython3",
   "version": "3.7.0"
  }
 },
 "nbformat": 4,
 "nbformat_minor": 2
}
