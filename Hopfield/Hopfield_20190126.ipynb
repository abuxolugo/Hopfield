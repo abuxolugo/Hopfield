{
 "cells": [
  {
   "cell_type": "code",
   "execution_count": 1,
   "metadata": {},
   "outputs": [],
   "source": [
    "import numpy as np"
   ]
  },
  {
   "cell_type": "markdown",
   "metadata": {},
   "source": [
    "Here we are building a Hopfield net... I think... I hope... just for fun.\n",
    "It is an object that takes as input the size of the network (how many nodes), and has train and test functions."
   ]
  },
  {
   "cell_type": "code",
   "execution_count": 2,
   "metadata": {},
   "outputs": [],
   "source": [
    "class Hopfield():\n",
    "    def __init__(self, size):\n",
    "        super(Hopfield, self).__init__()\n",
    "        \n",
    "        #Here we use the size of the network to initialize the weights matrix\n",
    "        self.size = size\n",
    "        self.W = np.zeros([size, size])\n",
    "\n",
    "\n",
    "    def train(self, learn_data):\n",
    "        #To train the network, you need to supply a list of patterns\n",
    "        #First, we loop through all the weights:\n",
    "        \n",
    "        for i in range(self.size):\n",
    "            for j in range(self.size):\n",
    "                \n",
    "                #If the connection is from a unit to itself, leave as 0\n",
    "                if i == j:\n",
    "                    continue\n",
    "            \n",
    "                w = 0.0\n",
    "                \n",
    "                #Now for each pattern assign a weight based on the activations of the sender and \n",
    "                #receiver units\n",
    "                for pattern in learn_data:\n",
    "                    node1 = (2 * pattern[i]) - 1\n",
    "                    node2 = (2 * pattern[j]) - 1\n",
    "                    w += node1 * node2\n",
    "            \n",
    "                self.W[i, j] = w\n",
    "         \n",
    "        \n",
    "    def test(self, test_data):\n",
    "        #To test the network, provide one pattern to see how the network converges\n",
    "        \n",
    "        output = test_data\n",
    "        prev_output = []\n",
    "        converged = False\n",
    "        sequence = np.arange(len(test_data))\n",
    "        \n",
    "        #The network converges when the state of the network is the same as it was in the previous \n",
    "        #iteration\n",
    "        while converged == False:\n",
    "            #The network updates units in random order each iteration\n",
    "            np.random.shuffle(sequence)\n",
    "            \n",
    "            for unit in sequence:\n",
    "                #Using the matrix we got from training, determine whether a node will be on or off\n",
    "                output[unit] = np.dot(output, self.W[:, unit])\n",
    "                \n",
    "                if output[unit] < 0:\n",
    "                    output[unit] = 0\n",
    "                else:\n",
    "                    output[unit] = 1\n",
    "                \n",
    "                print(output, \"Updated node\", unit + 1)\n",
    "                \n",
    "            if output == prev_output:\n",
    "                converged = True\n",
    "                \n",
    "            prev_output = output"
   ]
  },
  {
   "cell_type": "markdown",
   "metadata": {},
   "source": [
    "Here we define a pair of patterns we want our network to remember:"
   ]
  },
  {
   "cell_type": "code",
   "execution_count": 3,
   "metadata": {},
   "outputs": [],
   "source": [
    "inputs = [[1, 1, 1, 0, 0], [0, 0, 1, 1, 1]]"
   ]
  },
  {
   "cell_type": "markdown",
   "metadata": {},
   "source": [
    "We create a Hopfield network with 5 nodes:"
   ]
  },
  {
   "cell_type": "code",
   "execution_count": 4,
   "metadata": {},
   "outputs": [],
   "source": [
    "model = Hopfield(5)"
   ]
  },
  {
   "cell_type": "markdown",
   "metadata": {},
   "source": [
    "We train the model on the inputs we defined earlier:"
   ]
  },
  {
   "cell_type": "code",
   "execution_count": 5,
   "metadata": {},
   "outputs": [],
   "source": [
    "model.train(inputs)"
   ]
  },
  {
   "cell_type": "markdown",
   "metadata": {},
   "source": [
    "If we're curious, we can check to see what the weight matrix looks like:"
   ]
  },
  {
   "cell_type": "code",
   "execution_count": 6,
   "metadata": {},
   "outputs": [
    {
     "data": {
      "text/plain": [
       "array([[ 0.,  2.,  0., -2., -2.],\n",
       "       [ 2.,  0.,  0., -2., -2.],\n",
       "       [ 0.,  0.,  0.,  0.,  0.],\n",
       "       [-2., -2.,  0.,  0.,  2.],\n",
       "       [-2., -2.,  0.,  2.,  0.]])"
      ]
     },
     "execution_count": 6,
     "metadata": {},
     "output_type": "execute_result"
    }
   ],
   "source": [
    "model.W"
   ]
  },
  {
   "cell_type": "markdown",
   "metadata": {},
   "source": [
    "Lastly, we test the network on a pattern. It can be one of the trained patterns, or a new one. \n",
    "Since the model updates nodes in random order each iteration, it is possible to get a different output each time."
   ]
  },
  {
   "cell_type": "code",
   "execution_count": 7,
   "metadata": {},
   "outputs": [
    {
     "name": "stdout",
     "output_type": "stream",
     "text": [
      "[1, 0, 1, 1, 1] Updated node 2\n",
      "[1, 0, 1, 1, 1] Updated node 5\n",
      "[1, 0, 1, 1, 1] Updated node 4\n",
      "[1, 0, 1, 1, 1] Updated node 3\n",
      "[0, 0, 1, 1, 1] Updated node 1\n",
      "[0, 0, 1, 1, 1] Updated node 1\n",
      "[0, 0, 1, 1, 1] Updated node 5\n",
      "[0, 0, 1, 1, 1] Updated node 2\n",
      "[0, 0, 1, 1, 1] Updated node 4\n",
      "[0, 0, 1, 1, 1] Updated node 3\n"
     ]
    }
   ],
   "source": [
    "model.test([1, 1, 1, 1, 1])"
   ]
  }
 ],
 "metadata": {
  "kernelspec": {
   "display_name": "Python 3",
   "language": "python",
   "name": "python3"
  },
  "language_info": {
   "codemirror_mode": {
    "name": "ipython",
    "version": 3
   },
   "file_extension": ".py",
   "mimetype": "text/x-python",
   "name": "python",
   "nbconvert_exporter": "python",
   "pygments_lexer": "ipython3",
   "version": "3.7.0"
  }
 },
 "nbformat": 4,
 "nbformat_minor": 2
}
